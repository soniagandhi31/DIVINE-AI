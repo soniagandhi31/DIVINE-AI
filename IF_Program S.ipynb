{
 "cells": [
  {
   "cell_type": "code",
   "execution_count": 15,
   "id": "disciplinary-beginning",
   "metadata": {},
   "outputs": [
    {
     "name": "stdout",
     "output_type": "stream",
     "text": [
      "hello\n",
      "2610628401584\n"
     ]
    }
   ],
   "source": [
    "name='hel\"lo' \n",
    "print(name)\n",
    "print(id(name))"
   ]
  },
  {
   "cell_type": "code",
   "execution_count": 1,
   "id": "sweet-sleeping",
   "metadata": {},
   "outputs": [
    {
     "name": "stdout",
     "output_type": "stream",
     "text": [
      "hel\"lo\n"
     ]
    }
   ],
   "source": [
    "name='hel\"lo' \n",
    "print(name)"
   ]
  },
  {
   "cell_type": "code",
   "execution_count": 3,
   "id": "affected-relief",
   "metadata": {},
   "outputs": [
    {
     "name": "stdout",
     "output_type": "stream",
     "text": [
      "hel'lo\n"
     ]
    }
   ],
   "source": [
    "name=\"hel'lo\"\n",
    "print(name)"
   ]
  },
  {
   "cell_type": "code",
   "execution_count": 4,
   "id": "rolled-atlas",
   "metadata": {},
   "outputs": [
    {
     "name": "stdout",
     "output_type": "stream",
     "text": [
      "9\n"
     ]
    }
   ],
   "source": [
    "print(6+3)"
   ]
  },
  {
   "cell_type": "code",
   "execution_count": 1,
   "id": "primary-crest",
   "metadata": {},
   "outputs": [
    {
     "name": "stdout",
     "output_type": "stream",
     "text": [
      "9howru\n"
     ]
    }
   ],
   "source": [
    "print(\"9\" + howru\")"
   ]
  },
  {
   "cell_type": "code",
   "execution_count": 13,
   "id": "interpreted-friendly",
   "metadata": {},
   "outputs": [
    {
     "name": "stdout",
     "output_type": "stream",
     "text": [
      " +=howru +=howru +=howru +=howru +=howru +=howru +=howru +=howru +=howru\n"
     ]
    }
   ],
   "source": [
    "print(9 *  ' +=howru')"
   ]
  },
  {
   "cell_type": "code",
   "execution_count": 15,
   "id": "early-consideration",
   "metadata": {},
   "outputs": [
    {
     "name": "stdout",
     "output_type": "stream",
     "text": [
      "--------------------------------------------------------------------------------\n"
     ]
    }
   ],
   "source": [
    "print('-' * 80)"
   ]
  },
  {
   "cell_type": "code",
   "execution_count": 20,
   "id": "american-private",
   "metadata": {},
   "outputs": [
    {
     "data": {
      "text/plain": [
       "2610628434480"
      ]
     },
     "execution_count": 20,
     "metadata": {},
     "output_type": "execute_result"
    }
   ],
   "source": [
    "name='hello' \n",
    "name\n",
    "id(name)"
   ]
  },
  {
   "cell_type": "code",
   "execution_count": 16,
   "id": "korean-recycling",
   "metadata": {},
   "outputs": [
    {
     "name": "stdout",
     "output_type": "stream",
     "text": [
      "hellog\n",
      "2610628432304\n"
     ]
    }
   ],
   "source": [
    "name +='g'\n",
    "print(name)\n",
    "print(id(name))"
   ]
  },
  {
   "cell_type": "code",
   "execution_count": 17,
   "id": "intimate-patio",
   "metadata": {},
   "outputs": [
    {
     "name": "stdout",
     "output_type": "stream",
     "text": [
      "2610628432624\n"
     ]
    }
   ],
   "source": [
    "name='Computer'\n",
    "print(id(name))"
   ]
  },
  {
   "cell_type": "code",
   "execution_count": 25,
   "id": "expressed-eugene",
   "metadata": {},
   "outputs": [
    {
     "name": "stdout",
     "output_type": "stream",
     "text": [
      "111\n"
     ]
    }
   ],
   "source": [
    "A = '10'\n",
    "B = A +'1'\n",
    "C= int(A) + int(B)\n",
    "print(C)"
   ]
  },
  {
   "cell_type": "code",
   "execution_count": 29,
   "id": "green-evolution",
   "metadata": {},
   "outputs": [
    {
     "name": "stdout",
     "output_type": "stream",
     "text": [
      "[1, 2, 'howru', 4, 5]\n"
     ]
    }
   ],
   "source": [
    "List=[1,2,'howru',4,5]\n",
    "print(List)"
   ]
  },
  {
   "cell_type": "code",
   "execution_count": 3,
   "id": "difficult-driving",
   "metadata": {},
   "outputs": [
    {
     "ename": "NameError",
     "evalue": "name 'List' is not defined",
     "output_type": "error",
     "traceback": [
      "\u001b[1;31m---------------------------------------------------------------------------\u001b[0m",
      "\u001b[1;31mNameError\u001b[0m                                 Traceback (most recent call last)",
      "\u001b[1;32m~\\AppData\\Local\\Temp/ipykernel_15688/3595864327.py\u001b[0m in \u001b[0;36m<module>\u001b[1;34m\u001b[0m\n\u001b[1;32m----> 1\u001b[1;33m \u001b[0mList\u001b[0m\u001b[1;33m[\u001b[0m\u001b[1;36m0\u001b[0m\u001b[1;33m]\u001b[0m\u001b[1;33m=\u001b[0m \u001b[1;36m20\u001b[0m\u001b[1;33m\u001b[0m\u001b[1;33m\u001b[0m\u001b[0m\n\u001b[0m\u001b[0;32m      2\u001b[0m \u001b[0mprint\u001b[0m\u001b[1;33m(\u001b[0m\u001b[0mList\u001b[0m\u001b[1;33m)\u001b[0m\u001b[1;33m\u001b[0m\u001b[1;33m\u001b[0m\u001b[0m\n",
      "\u001b[1;31mNameError\u001b[0m: name 'List' is not defined"
     ]
    }
   ],
   "source": [
    "List[0]= 20 \n",
    "print(List)"
   ]
  },
  {
   "cell_type": "code",
   "execution_count": 19,
   "id": "convertible-dancing",
   "metadata": {},
   "outputs": [
    {
     "name": "stdout",
     "output_type": "stream",
     "text": [
      "[20, 2, 3, 8, 5]\n"
     ]
    }
   ],
   "source": [
    "List[3]=8 \n",
    "print(List)"
   ]
  },
  {
   "cell_type": "code",
   "execution_count": 30,
   "id": "dangerous-seeking",
   "metadata": {},
   "outputs": [
    {
     "name": "stdout",
     "output_type": "stream",
     "text": [
      "(1, 2, 'hi', [1, 2, 'howru', 4, 5])\n"
     ]
    }
   ],
   "source": [
    "tuple=(1,2,'hi',List)\n",
    "print(tuple)"
   ]
  },
  {
   "cell_type": "code",
   "execution_count": 33,
   "id": "electrical-nigeria",
   "metadata": {},
   "outputs": [
    {
     "name": "stdout",
     "output_type": "stream",
     "text": [
      "i\n"
     ]
    }
   ],
   "source": [
    "print(tuple[2][1])"
   ]
  },
  {
   "cell_type": "code",
   "execution_count": 34,
   "id": "integrated-honor",
   "metadata": {},
   "outputs": [
    {
     "name": "stdout",
     "output_type": "stream",
     "text": [
      "r\n"
     ]
    }
   ],
   "source": [
    "print(tuple[3][2][3])"
   ]
  },
  {
   "cell_type": "code",
   "execution_count": 22,
   "id": "internal-ethics",
   "metadata": {},
   "outputs": [
    {
     "ename": "TypeError",
     "evalue": "'tuple' object does not support item assignment",
     "output_type": "error",
     "traceback": [
      "\u001b[1;31m---------------------------------------------------------------------------\u001b[0m",
      "\u001b[1;31mTypeError\u001b[0m                                 Traceback (most recent call last)",
      "\u001b[1;32m<ipython-input-22-fea23c1cfe8c>\u001b[0m in \u001b[0;36m<module>\u001b[1;34m\u001b[0m\n\u001b[1;32m----> 1\u001b[1;33m \u001b[0mtuple\u001b[0m\u001b[1;33m[\u001b[0m\u001b[1;36m0\u001b[0m\u001b[1;33m]\u001b[0m\u001b[1;33m=\u001b[0m\u001b[1;36m20\u001b[0m\u001b[1;33m\u001b[0m\u001b[1;33m\u001b[0m\u001b[0m\n\u001b[0m\u001b[0;32m      2\u001b[0m \u001b[0mprint\u001b[0m\u001b[1;33m(\u001b[0m\u001b[0mtuple\u001b[0m\u001b[1;33m)\u001b[0m\u001b[1;33m\u001b[0m\u001b[1;33m\u001b[0m\u001b[0m\n",
      "\u001b[1;31mTypeError\u001b[0m: 'tuple' object does not support item assignment"
     ]
    }
   ],
   "source": [
    "tuple[0]=20 \n",
    "print(tuple)"
   ]
  },
  {
   "cell_type": "code",
   "execution_count": null,
   "id": "prescription-paper",
   "metadata": {},
   "outputs": [],
   "source": []
  },
  {
   "cell_type": "code",
   "execution_count": null,
   "id": "olympic-lesson",
   "metadata": {},
   "outputs": [],
   "source": [
    "# Read a dataset with missing values\n",
    "import pandas as pd\n",
    "flights = pd.read_csv(\"https://raw.githubusercontent.com/PacktPublishing/Pandas-Cookbook/master/data/flights.csv\")"
   ]
  },
  {
   "cell_type": "code",
   "execution_count": null,
   "id": "documentary-sterling",
   "metadata": {},
   "outputs": [],
   "source": [
    "# Select the rows that have at least one missing value\n",
    "flights[flights.isnull().any(axis=1)].head()"
   ]
  },
  {
   "cell_type": "code",
   "execution_count": null,
   "id": "modern-radical",
   "metadata": {},
   "outputs": [],
   "source": [
    "flights.shape"
   ]
  },
  {
   "cell_type": "code",
   "execution_count": null,
   "id": "dirty-saturday",
   "metadata": {},
   "outputs": [],
   "source": [
    "flights.tail()"
   ]
  },
  {
   "cell_type": "code",
   "execution_count": null,
   "id": "champion-temple",
   "metadata": {},
   "outputs": [],
   "source": [
    "flights.dropna(how='all')"
   ]
  },
  {
   "cell_type": "code",
   "execution_count": null,
   "id": "impressive-dinner",
   "metadata": {},
   "outputs": [],
   "source": [
    "flights[['DEP_DELAY','ARR_DELAY']].agg(['min','mean','max'])"
   ]
  },
  {
   "cell_type": "code",
   "execution_count": null,
   "id": "subjective-nomination",
   "metadata": {},
   "outputs": [],
   "source": [
    "flights.describe()"
   ]
  },
  {
   "cell_type": "code",
   "execution_count": null,
   "id": "pregnant-scholarship",
   "metadata": {},
   "outputs": [],
   "source": [
    "import seaborn as sns\n",
    "sns.pairplot(flights)"
   ]
  },
  {
   "cell_type": "code",
   "execution_count": null,
   "id": "equipped-lyric",
   "metadata": {},
   "outputs": [],
   "source": [
    "d = {\"age\":43, (\"hello\",\"world\"):1, \"flag\": [\"red\",\"white\",\"blue\"]}"
   ]
  },
  {
   "cell_type": "code",
   "execution_count": null,
   "id": "comparable-session",
   "metadata": {},
   "outputs": [],
   "source": [
    "d['flag'][1][3]"
   ]
  },
  {
   "cell_type": "code",
   "execution_count": null,
   "id": "measured-piano",
   "metadata": {},
   "outputs": [],
   "source": [
    "fruit = 'Banana'\n",
    "fruit[0] = 'b'"
   ]
  },
  {
   "cell_type": "code",
   "execution_count": null,
   "id": "introductory-institute",
   "metadata": {},
   "outputs": [],
   "source": [
    "x = fruit.lower()"
   ]
  },
  {
   "cell_type": "code",
   "execution_count": null,
   "id": "pressing-channels",
   "metadata": {},
   "outputs": [],
   "source": [
    "id(fruit)"
   ]
  },
  {
   "cell_type": "code",
   "execution_count": null,
   "id": "minor-integral",
   "metadata": {},
   "outputs": [],
   "source": [
    "id(x)"
   ]
  },
  {
   "cell_type": "code",
   "execution_count": null,
   "id": "right-integration",
   "metadata": {},
   "outputs": [],
   "source": [
    "n = 1\n",
    "num= int(input('Enter the Nunber'))\n",
    "while n<= num :\n",
    "    print(n)\n",
    "    n+=1\n"
   ]
  },
  {
   "cell_type": "code",
   "execution_count": null,
   "id": "super-parking",
   "metadata": {},
   "outputs": [],
   "source": [
    "print('Before')\n",
    "for value in [9, 41, 12, 3, 74, 15] :\n",
    "    if value > 20: \n",
    "        print('Large number',value)\n",
    "print('After')\n"
   ]
  },
  {
   "cell_type": "code",
   "execution_count": null,
   "id": "biblical-thesis",
   "metadata": {},
   "outputs": [],
   "source": [
    "smallest = None\n",
    "for value in [9, 41, 12, 3, 74, 15] : \n",
    "     if smallest is None : \n",
    "         smallest = value   \n",
    "     elif value < smallest : \n",
    "         smallest = value   \n",
    "     print(smallest, value)\n",
    "print('After', smallest)\n"
   ]
  },
  {
   "cell_type": "code",
   "execution_count": null,
   "id": "smoking-sheffield",
   "metadata": {},
   "outputs": [],
   "source": [
    "def average( prices):\n",
    "    total = 0 \n",
    "    for price in prices: \n",
    "        total = total + price \n",
    "    avg = total/len(prices)\n",
    "    return avg\n",
    "numbers = [1,2,3,4,5]\n",
    "my_average = average(numbers)\n",
    "print(my_average) "
   ]
  },
  {
   "cell_type": "code",
   "execution_count": 13,
   "id": "declared-chess",
   "metadata": {},
   "outputs": [
    {
     "name": "stdout",
     "output_type": "stream",
     "text": [
      "25\n",
      "avg 50\n",
      "total 12.5\n"
     ]
    }
   ],
   "source": [
    "def average(numbers, lst):\n",
    "    total = 0\n",
    "    for num in numbers:\n",
    "        total = total + num\n",
    "    avg = total/len(lst)\n",
    "    return avg, total\n",
    "def TEST():\n",
    "    prices = [20, 30]\n",
    "    price = [200, 300, 400, 100]\n",
    "    total1, avg1 = average(prices,price)\n",
    "    print(order_goal)\n",
    "    print('avg',avg1)\n",
    "    print('total',total1)\n",
    "order_goal = 25\n",
    "TEST()"
   ]
  },
  {
   "cell_type": "code",
   "execution_count": null,
   "id": "diverse-jackson",
   "metadata": {},
   "outputs": [],
   "source": [
    "s = 'hi'\n",
    "print(s*3)"
   ]
  },
  {
   "cell_type": "code",
   "execution_count": null,
   "id": "similar-manor",
   "metadata": {},
   "outputs": [],
   "source": [
    "i =1 \n",
    "i+=1\n",
    "i"
   ]
  },
  {
   "cell_type": "code",
   "execution_count": null,
   "id": "similar-tuning",
   "metadata": {},
   "outputs": [],
   "source": [
    "a = ['spam', 'eggs', 100, 1234, 2*2]\n",
    "a[-4:4]"
   ]
  },
  {
   "cell_type": "code",
   "execution_count": null,
   "id": "thrown-jimmy",
   "metadata": {},
   "outputs": [],
   "source": [
    "a[2] = a[2] + 23\n",
    "a[0:2] = [1,12]\n",
    "a"
   ]
  },
  {
   "cell_type": "code",
   "execution_count": null,
   "id": "rental-consequence",
   "metadata": {},
   "outputs": [],
   "source": [
    "a[0] = []\n",
    "len(a)\n",
    "a"
   ]
  },
  {
   "cell_type": "code",
   "execution_count": null,
   "id": "broken-particular",
   "metadata": {},
   "outputs": [],
   "source": [
    "print(d[\"flag\"][2][2])"
   ]
  },
  {
   "cell_type": "code",
   "execution_count": null,
   "id": "related-region",
   "metadata": {},
   "outputs": [],
   "source": [
    "print(d.get(\"flagssss\"))"
   ]
  },
  {
   "cell_type": "code",
   "execution_count": null,
   "id": "south-creation",
   "metadata": {},
   "outputs": [],
   "source": [
    "print(d.values())"
   ]
  },
  {
   "cell_type": "code",
   "execution_count": null,
   "id": "manufactured-speed",
   "metadata": {},
   "outputs": [],
   "source": [
    "my_list = [1, 2, 3, 4] \n",
    "your_list = [4, 3, 2, 1] \n",
    "his_list = [1, 2, 3, 4]\n",
    "print(my_list == your_list) \n",
    "print(my_list == his_list)"
   ]
  },
  {
   "cell_type": "code",
   "execution_count": null,
   "id": "processed-liberty",
   "metadata": {},
   "outputs": [],
   "source": [
    "my_dict = {1:1, 2:2, 3:3, 4:4} \n",
    "your_dict = {4:4, 3:3, 2:2, 1:1}\n",
    "print(my_dict == your_dict)"
   ]
  },
  {
   "cell_type": "code",
   "execution_count": null,
   "id": "vocal-method",
   "metadata": {},
   "outputs": [],
   "source": [
    "for num in [1,2,3,4,5]:\n",
    "    print(num**2)"
   ]
  },
  {
   "cell_type": "code",
   "execution_count": null,
   "id": "vocal-following",
   "metadata": {},
   "outputs": [],
   "source": [
    "for num in 'computer':\n",
    "    print(num)"
   ]
  },
  {
   "cell_type": "code",
   "execution_count": null,
   "id": "posted-johnston",
   "metadata": {},
   "outputs": [],
   "source": [
    "for items in d:\n",
    "    print(items)\n",
    "    #print(key)"
   ]
  },
  {
   "cell_type": "code",
   "execution_count": null,
   "id": "owned-melissa",
   "metadata": {},
   "outputs": [],
   "source": [
    "total = 0\n",
    "prices = [2.50, 3.50, 4.50]\n",
    "for price in prices:\n",
    "    print('Price is', price) \n",
    "    total = total + price\n",
    "print('total is', total)\n",
    "average = total/len(prices) \n",
    "print('avg is', average)"
   ]
  },
  {
   "cell_type": "code",
   "execution_count": null,
   "id": "younger-virgin",
   "metadata": {},
   "outputs": [],
   "source": [
    "import random\n",
    "r1 = random.random() # Gives us a random number from [0.0, 1.0\n",
    "print(r1)\n",
    "r2 = random.choice([1,2,3,4,5]) # Gives us a random choice from a list\n",
    "print(r2)\n",
    "r3 = random.randint(1, 1000) # Gives us a random number in this range\n",
    "print(r3)\n"
   ]
  },
  {
   "cell_type": "code",
   "execution_count": null,
   "id": "unlike-breathing",
   "metadata": {},
   "outputs": [],
   "source": [
    "for keys,items in d.items():\n",
    "    print(keys)\n",
    "    print(items)    "
   ]
  },
  {
   "cell_type": "code",
   "execution_count": null,
   "id": "extended-anthropology",
   "metadata": {},
   "outputs": [],
   "source": [
    "a = 1"
   ]
  },
  {
   "cell_type": "code",
   "execution_count": null,
   "id": "noticed-incentive",
   "metadata": {},
   "outputs": [],
   "source": [
    "print(type(a))"
   ]
  },
  {
   "cell_type": "code",
   "execution_count": null,
   "id": "fixed-salem",
   "metadata": {},
   "outputs": [],
   "source": [
    "print(a)"
   ]
  },
  {
   "cell_type": "code",
   "execution_count": null,
   "id": "frequent-sunday",
   "metadata": {},
   "outputs": [],
   "source": [
    "print(id(a))"
   ]
  },
  {
   "cell_type": "code",
   "execution_count": null,
   "id": "molecular-excellence",
   "metadata": {},
   "outputs": [],
   "source": [
    "a = str (a) + ' hello'"
   ]
  },
  {
   "cell_type": "code",
   "execution_count": null,
   "id": "tough-script",
   "metadata": {},
   "outputs": [],
   "source": [
    "print(id(a))"
   ]
  },
  {
   "cell_type": "code",
   "execution_count": null,
   "id": "looking-bunch",
   "metadata": {},
   "outputs": [],
   "source": []
  },
  {
   "cell_type": "code",
   "execution_count": null,
   "id": "commercial-flower",
   "metadata": {},
   "outputs": [],
   "source": [
    "# Python automatically converts\n",
    "# a to int\n",
    "a = 7\n",
    "print(type(a)) \n",
    "# Python automatically converts\n",
    "# b to float\n",
    "b = 3.0\n",
    "print(type(b)) \n",
    "# Python automatically converts\n",
    "# c to float as it is a float addition\n",
    "c = a + b\n",
    "print(c)\n",
    "print(type(c)) \n",
    "# Python automatically converts\n",
    "# d to float as it is a float multiplication\n",
    "d = a * b\n",
    "print(d)\n",
    "print(type(d))"
   ]
  },
  {
   "cell_type": "code",
   "execution_count": null,
   "id": "modern-archive",
   "metadata": {},
   "outputs": [],
   "source": []
  },
  {
   "cell_type": "code",
   "execution_count": null,
   "id": "systematic-moscow",
   "metadata": {},
   "outputs": [],
   "source": [
    "import numpy as np\n",
    "B = np.random.rand(1000000)\n",
    "%timeit sum(B)\n",
    "%timeit np.sum(B)\n"
   ]
  },
  {
   "cell_type": "code",
   "execution_count": null,
   "id": "intimate-middle",
   "metadata": {},
   "outputs": [],
   "source": [
    "\n",
    "%%timeit\n",
    "S=0\n",
    "for x in B:\n",
    "    S = S + x\n",
    "print(S)"
   ]
  },
  {
   "cell_type": "code",
   "execution_count": null,
   "id": "desirable-silence",
   "metadata": {},
   "outputs": [],
   "source": [
    "price = input(\"Enter the price: \")\n",
    "price = float(price) \n",
    "print('Price =', price)\n",
    "print('Not a number!')"
   ]
  },
  {
   "cell_type": "code",
   "execution_count": null,
   "id": "compressed-pacific",
   "metadata": {},
   "outputs": [],
   "source": [
    "price = input(\"Enter the price: \")\n",
    "try:\n",
    "    price = float(price) \n",
    "    print('Price =', price)\n",
    "except ValueError:\n",
    "    print('Not a number!')"
   ]
  },
  {
   "cell_type": "code",
   "execution_count": null,
   "id": "obvious-employee",
   "metadata": {},
   "outputs": [],
   "source": [
    "price = input(\"Enter the price: \")\n",
    "print(type(price))\n",
    "price = int(price) \n",
    "print('Price =', price)\n",
    "print(type(price))"
   ]
  },
  {
   "cell_type": "code",
   "execution_count": null,
   "id": "abandoned-makeup",
   "metadata": {},
   "outputs": [],
   "source": [
    "c = 'hi' + str(10)\n",
    "print(c)"
   ]
  },
  {
   "cell_type": "code",
   "execution_count": null,
   "id": "alternate-latter",
   "metadata": {},
   "outputs": [],
   "source": [
    "type(c)"
   ]
  },
  {
   "cell_type": "code",
   "execution_count": null,
   "id": "featured-student",
   "metadata": {},
   "outputs": [],
   "source": [
    "len(c)"
   ]
  },
  {
   "cell_type": "code",
   "execution_count": null,
   "id": "brave-monroe",
   "metadata": {},
   "outputs": [],
   "source": [
    "import numpy as np\n",
    "B = np.random.rand(1000000)\n",
    "%timeit sum(B)"
   ]
  },
  {
   "cell_type": "code",
   "execution_count": null,
   "id": "quick-nickel",
   "metadata": {},
   "outputs": [],
   "source": [
    "%timeit np.sum(B)"
   ]
  },
  {
   "cell_type": "code",
   "execution_count": null,
   "id": "recent-large",
   "metadata": {},
   "outputs": [],
   "source": [
    "%%timeit\n",
    "S=0\n",
    "for x in B:\n",
    "    S+=x"
   ]
  },
  {
   "cell_type": "code",
   "execution_count": null,
   "id": "intimate-vehicle",
   "metadata": {},
   "outputs": [],
   "source": [
    "a = 33 \n",
    "b = 200 \n",
    "if b > a:\n",
    "    print(\"b is greater than a\")\n",
    "print(a)\n",
    "print(b)"
   ]
  },
  {
   "cell_type": "code",
   "execution_count": null,
   "id": "announced-provider",
   "metadata": {},
   "outputs": [],
   "source": [
    "x,y =12,10 \n",
    "if(x < y): \n",
    "    st= \"x is less than y\" \n",
    "elif (x == y):\n",
    "    st= \"x is same as y\" \n",
    "else: \n",
    "    st=\"x is greater than y\" \n",
    "print(st)\n"
   ]
  },
  {
   "cell_type": "code",
   "execution_count": null,
   "id": "egyptian-harrison",
   "metadata": {},
   "outputs": [],
   "source": [
    "list=[1,2,100, 3, 55, 4,73,5]\n",
    "for i in list:\n",
    "    print(i)\n",
    "    \n",
    "print(i)"
   ]
  },
  {
   "cell_type": "code",
   "execution_count": null,
   "id": "proud-driving",
   "metadata": {},
   "outputs": [],
   "source": [
    "newList = list.sort()\n",
    "print(newList)"
   ]
  },
  {
   "cell_type": "code",
   "execution_count": null,
   "id": "marked-spectrum",
   "metadata": {},
   "outputs": [],
   "source": [
    "print(list)"
   ]
  },
  {
   "cell_type": "code",
   "execution_count": null,
   "id": "aerial-zealand",
   "metadata": {},
   "outputs": [],
   "source": [
    "list1 =  sorted(list)\n",
    "print(list1)"
   ]
  },
  {
   "cell_type": "code",
   "execution_count": null,
   "id": "specialized-jaguar",
   "metadata": {},
   "outputs": [],
   "source": [
    "while (i<10) :\n",
    "    print(i)\n",
    "    i = i+1"
   ]
  },
  {
   "cell_type": "code",
   "execution_count": null,
   "id": "sharp-german",
   "metadata": {},
   "outputs": [],
   "source": [
    "range(3,7)"
   ]
  },
  {
   "cell_type": "code",
   "execution_count": null,
   "id": "aboriginal-registrar",
   "metadata": {},
   "outputs": [],
   "source": [
    "li = range(13,7) \n",
    "li"
   ]
  },
  {
   "cell_type": "code",
   "execution_count": null,
   "id": "junior-drove",
   "metadata": {},
   "outputs": [],
   "source": [
    "print(li)"
   ]
  },
  {
   "cell_type": "code",
   "execution_count": null,
   "id": "circular-tourism",
   "metadata": {},
   "outputs": [],
   "source": [
    "for i in range(3,17,4):\n",
    "    print(i)"
   ]
  },
  {
   "cell_type": "code",
   "execution_count": null,
   "id": "animal-philosophy",
   "metadata": {},
   "outputs": [],
   "source": [
    "for i in range(10):\n",
    "    print(i)"
   ]
  },
  {
   "cell_type": "code",
   "execution_count": null,
   "id": "reserved-offset",
   "metadata": {},
   "outputs": [],
   "source": [
    "for i in range(10):\n",
    "    i=i+1\n",
    "    print(i)"
   ]
  },
  {
   "cell_type": "code",
   "execution_count": 2,
   "id": "foreign-baptist",
   "metadata": {},
   "outputs": [
    {
     "name": "stdout",
     "output_type": "stream",
     "text": [
      "1\n",
      "2\n",
      "3\n",
      "4\n",
      "5\n",
      "6\n",
      "7\n"
     ]
    }
   ],
   "source": [
    "li = [1,2,3,4,5,6,7]\n",
    "j = 0\n",
    "for i in li:\n",
    "    print(i)"
   ]
  },
  {
   "cell_type": "code",
   "execution_count": null,
   "id": "structural-subcommittee",
   "metadata": {},
   "outputs": [],
   "source": [
    "print(j)\n",
    "print(type(j))"
   ]
  },
  {
   "cell_type": "code",
   "execution_count": 3,
   "id": "cleared-employee",
   "metadata": {},
   "outputs": [
    {
     "name": "stdout",
     "output_type": "stream",
     "text": [
      "7\n",
      "6\n",
      "5\n"
     ]
    }
   ],
   "source": [
    "length = len(li)\n",
    "while length >= 3:\n",
    "    print(length)\n",
    "    if length <= 5:\n",
    "        break\n",
    "    length = length - 1        "
   ]
  },
  {
   "cell_type": "code",
   "execution_count": 7,
   "id": "leading-slovakia",
   "metadata": {},
   "outputs": [
    {
     "name": "stdout",
     "output_type": "stream",
     "text": [
      "6\n",
      "5\n",
      "4\n",
      "3\n",
      "2\n"
     ]
    }
   ],
   "source": [
    "length = len(li)\n",
    "while length >= 3:    \n",
    "    length = length - 1\n",
    "    print(length)\n",
    "    if length >= 5:\n",
    "        continue    "
   ]
  },
  {
   "cell_type": "code",
   "execution_count": 8,
   "id": "capable-reynolds",
   "metadata": {},
   "outputs": [
    {
     "name": "stdout",
     "output_type": "stream",
     "text": [
      "6\n"
     ]
    }
   ],
   "source": [
    "length = len(li)\n",
    "while length >= 3:    \n",
    "    length = length - 1\n",
    "    print(length)\n",
    "    if length >= 5:\n",
    "        break    "
   ]
  },
  {
   "cell_type": "code",
   "execution_count": null,
   "id": "continuous-knight",
   "metadata": {},
   "outputs": [],
   "source": [
    "li = [1,2,3,4,5,6,7]\n",
    "for i in li:\n",
    "    print(i)"
   ]
  },
  {
   "cell_type": "code",
   "execution_count": 3,
   "id": "sunrise-paragraph",
   "metadata": {},
   "outputs": [
    {
     "name": "stdout",
     "output_type": "stream",
     "text": [
      "outer loop\n",
      "inner loop\n",
      "inner 1\n",
      "inner loop\n",
      "inner 2\n",
      "inner loop\n",
      "inner 3\n",
      "inner loop\n",
      "inner 4\n",
      "inner loop\n",
      "inner 5\n",
      "inner loop\n",
      "inner 6\n",
      "outer 6\n",
      "outer loop\n",
      "inner loop\n",
      "inner 7\n",
      "inner loop\n",
      "inner 8\n",
      "inner loop\n",
      "inner 9\n",
      "inner loop\n",
      "inner 10\n",
      "inner loop\n",
      "inner 11\n",
      "inner loop\n",
      "inner 12\n",
      "outer 12\n",
      "outer loop\n",
      "inner loop\n",
      "inner 13\n",
      "inner loop\n",
      "inner 14\n",
      "inner loop\n",
      "inner 15\n",
      "inner loop\n",
      "inner 16\n",
      "inner loop\n",
      "inner 17\n",
      "inner loop\n",
      "inner 18\n",
      "outer 18\n",
      "outer loop\n",
      "inner loop\n",
      "inner 19\n",
      "inner loop\n",
      "inner 20\n",
      "inner loop\n",
      "outer 21\n",
      "outer loop\n",
      "inner loop\n",
      "outer 22\n",
      "outer loop\n",
      "inner loop\n",
      "outer 23\n"
     ]
    }
   ],
   "source": [
    "li = [1,2,3,4,5,6]\n",
    "j = 0\n",
    "for i in li:\n",
    "    print('outer loop')\n",
    "    for i in li:\n",
    "        print('inner loop')\n",
    "        j=j+1\n",
    "        if j > 20:\n",
    "            break\n",
    "        print('inner',j)\n",
    "    print('outer',j)"
   ]
  },
  {
   "cell_type": "code",
   "execution_count": 4,
   "id": "synthetic-maple",
   "metadata": {},
   "outputs": [
    {
     "name": "stdout",
     "output_type": "stream",
     "text": [
      "outer loop\n",
      "inner loop\n",
      "inner 1\n",
      "inner loop\n",
      "inner 2\n",
      "inner loop\n",
      "inner 3\n",
      "inner loop\n",
      "inner 4\n",
      "inner loop\n",
      "inner 5\n",
      "inner loop\n",
      "inner 6\n",
      "outer 6\n",
      "outer loop\n",
      "inner loop\n",
      "inner 7\n",
      "inner loop\n",
      "inner 8\n",
      "inner loop\n",
      "inner 9\n",
      "inner loop\n",
      "inner 10\n",
      "inner loop\n",
      "inner 11\n",
      "inner loop\n",
      "inner 12\n",
      "outer 12\n",
      "outer loop\n",
      "inner loop\n",
      "inner 13\n",
      "inner loop\n",
      "inner 14\n",
      "inner loop\n",
      "inner 15\n",
      "inner loop\n",
      "inner 16\n",
      "inner loop\n",
      "inner 17\n",
      "inner loop\n",
      "inner 18\n",
      "outer 18\n",
      "outer loop\n",
      "inner loop\n",
      "inner 19\n",
      "inner loop\n",
      "inner 20\n",
      "inner loop\n",
      "inner loop\n",
      "inner loop\n",
      "inner loop\n",
      "outer 24\n",
      "outer loop\n",
      "inner loop\n",
      "inner loop\n",
      "inner loop\n",
      "inner loop\n",
      "inner loop\n",
      "inner loop\n",
      "outer 30\n",
      "outer loop\n",
      "inner loop\n",
      "inner loop\n",
      "inner loop\n",
      "inner loop\n",
      "inner loop\n",
      "inner loop\n",
      "outer 36\n"
     ]
    }
   ],
   "source": [
    "li = [1,2,3,4,5,6]\n",
    "j = 0\n",
    "for i in li:\n",
    "    print('outer loop')\n",
    "    for i in li:\n",
    "        print('inner loop')\n",
    "        j=j+1\n",
    "        if j > 20:\n",
    "            continue\n",
    "        print('inner',j)\n",
    "    print('outer',j)"
   ]
  },
  {
   "cell_type": "code",
   "execution_count": 10,
   "id": "gentle-mathematics",
   "metadata": {},
   "outputs": [
    {
     "name": "stdout",
     "output_type": "stream",
     "text": [
      "28\n",
      "56\n",
      "84\n",
      "112\n",
      "140\n",
      "168\n",
      "196\n",
      "196\n"
     ]
    }
   ],
   "source": [
    "li = [1,2,3,4,5,6,7]\n",
    "j = 0\n",
    "for i in li:\n",
    "    for i in li:\n",
    "        j=j+i\n",
    "    print(j)\n",
    "print(j)"
   ]
  },
  {
   "cell_type": "code",
   "execution_count": null,
   "id": "brilliant-hurricane",
   "metadata": {},
   "outputs": [],
   "source": [
    "x = int(input(\"x? \"))\n",
    "y = int(input(\"y? \"))\n",
    "if x < y: \n",
    "    print('x is less than y') \n",
    "elif x > y: \n",
    "    print('x is greater than y') \n",
    "else: \n",
    "    print('x and y are equal')\n"
   ]
  },
  {
   "cell_type": "code",
   "execution_count": 11,
   "id": "strong-beauty",
   "metadata": {},
   "outputs": [
    {
     "name": "stdout",
     "output_type": "stream",
     "text": [
      "highest 74\n"
     ]
    }
   ],
   "source": [
    "highest = 0\n",
    "for value in [9, 41, 12, 3, 74, 15] :\n",
    "    if value > highest:\n",
    "        highest = value \n",
    "print('highest' , highest)"
   ]
  },
  {
   "cell_type": "code",
   "execution_count": 12,
   "id": "processed-archives",
   "metadata": {},
   "outputs": [
    {
     "name": "stdout",
     "output_type": "stream",
     "text": [
      "highest 0\n"
     ]
    }
   ],
   "source": [
    "highest = 0\n",
    "for value in [9, 41, 12, 3, 74, 15] :\n",
    "    if value < highest:\n",
    "        highest = value \n",
    "print('highest' , highest)"
   ]
  },
  {
   "cell_type": "code",
   "execution_count": null,
   "id": "random-brooks",
   "metadata": {},
   "outputs": [],
   "source": [
    "list = [9, 41, 12, 3, 74, 15]\n",
    "print(list[4])"
   ]
  },
  {
   "cell_type": "code",
   "execution_count": 13,
   "id": "needed-community",
   "metadata": {},
   "outputs": [
    {
     "name": "stdout",
     "output_type": "stream",
     "text": [
      "smallest 3\n"
     ]
    }
   ],
   "source": [
    "list = [9, 41, 12, 3, 74, 15]\n",
    "smallest = list[0]\n",
    "for value in list :\n",
    "    if value < smallest:\n",
    "        smallest = value        \n",
    "print('smallest' , smallest)"
   ]
  },
  {
   "cell_type": "code",
   "execution_count": 14,
   "id": "accomplished-twist",
   "metadata": {},
   "outputs": [
    {
     "name": "stdout",
     "output_type": "stream",
     "text": [
      "After 1\n"
     ]
    }
   ],
   "source": [
    "smallest = None\n",
    "for value in [9, 41, 12, 3, 74, 15,103,305, 7 , 102.5, 167.44,1] : \n",
    "     if smallest is None : \n",
    "         smallest = value   \n",
    "     elif value < smallest : \n",
    "         smallest = value   \n",
    "     #print(smallest, value)\n",
    "print('After', smallest)"
   ]
  },
  {
   "cell_type": "code",
   "execution_count": 16,
   "id": "premium-strategy",
   "metadata": {},
   "outputs": [
    {
     "data": {
      "text/plain": [
       "' '"
      ]
     },
     "execution_count": 16,
     "metadata": {},
     "output_type": "execute_result"
    }
   ],
   "source": [
    "name = \"P. Diddy\"\n",
    "name[2]"
   ]
  },
  {
   "cell_type": "code",
   "execution_count": 17,
   "id": "accepting-truth",
   "metadata": {},
   "outputs": [
    {
     "data": {
      "text/plain": [
       "('S', 'A')"
      ]
     },
     "execution_count": 17,
     "metadata": {},
     "output_type": "execute_result"
    }
   ],
   "source": [
    "aa='SLICEOFSPAM'\n",
    "aa[0], aa[-2]"
   ]
  },
  {
   "cell_type": "code",
   "execution_count": 29,
   "id": "automotive-partner",
   "metadata": {},
   "outputs": [
    {
     "data": {
      "text/plain": [
       "('LICE', 'M')"
      ]
     },
     "execution_count": 29,
     "metadata": {},
     "output_type": "execute_result"
    }
   ],
   "source": [
    "aa[1:5] , aa[-1:] "
   ]
  },
  {
   "cell_type": "code",
   "execution_count": 25,
   "id": "faced-carnival",
   "metadata": {},
   "outputs": [
    {
     "data": {
      "text/plain": [
       "'SCFA'"
      ]
     },
     "execution_count": 25,
     "metadata": {},
     "output_type": "execute_result"
    }
   ],
   "source": [
    "aa[::3]"
   ]
  },
  {
   "cell_type": "code",
   "execution_count": 30,
   "id": "victorian-sewing",
   "metadata": {},
   "outputs": [
    {
     "data": {
      "text/plain": [
       "('MAPSFOECILS', 'MSEL')"
      ]
     },
     "execution_count": 30,
     "metadata": {},
     "output_type": "execute_result"
    }
   ],
   "source": [
    "aa[::-1] , aa[::-3]"
   ]
  },
  {
   "cell_type": "code",
   "execution_count": null,
   "id": "occupied-event",
   "metadata": {},
   "outputs": [],
   "source": [
    "aa[:-1]"
   ]
  },
  {
   "cell_type": "code",
   "execution_count": 31,
   "id": "mounted-brush",
   "metadata": {},
   "outputs": [],
   "source": [
    "hw = 'hello world' \n",
    "hw = hw.upper(), hw.title()"
   ]
  },
  {
   "cell_type": "code",
   "execution_count": 32,
   "id": "decent-northeast",
   "metadata": {},
   "outputs": [
    {
     "name": "stdout",
     "output_type": "stream",
     "text": [
      "('HELLO WORLD', 'Hello World')\n"
     ]
    }
   ],
   "source": [
    "print(hw)"
   ]
  },
  {
   "cell_type": "code",
   "execution_count": 33,
   "id": "honest-forward",
   "metadata": {},
   "outputs": [
    {
     "data": {
      "text/plain": [
       "tuple"
      ]
     },
     "execution_count": 33,
     "metadata": {},
     "output_type": "execute_result"
    }
   ],
   "source": [
    "type(hw)"
   ]
  },
  {
   "cell_type": "code",
   "execution_count": 36,
   "id": "excess-bargain",
   "metadata": {},
   "outputs": [
    {
     "data": {
      "text/plain": [
       "(False, False)"
      ]
     },
     "execution_count": 36,
     "metadata": {},
     "output_type": "execute_result"
    }
   ],
   "source": [
    "hw = 'hello world' \n",
    "hw = hw.upper()\n",
    "hw.isdigit(), hw.islower()"
   ]
  },
  {
   "cell_type": "code",
   "execution_count": 38,
   "id": "atmospheric-crest",
   "metadata": {},
   "outputs": [
    {
     "name": "stdout",
     "output_type": "stream",
     "text": [
      "And me too!\n",
      "though I am much longer \n",
      "than the others :)\n",
      "And me too!\n",
      "though I am much longer\n",
      "than the others :)\n"
     ]
    }
   ],
   "source": [
    "s = '''And me too!\n",
    "though I am much longer \n",
    "than the others :)'''\n",
    "a= 'And me too!\\nthough I am much longer\\nthan the others :)'\n",
    "print(s)\n",
    "print(a)"
   ]
  },
  {
   "cell_type": "code",
   "execution_count": 40,
   "id": "reliable-professional",
   "metadata": {},
   "outputs": [
    {
     "name": "stdout",
     "output_type": "stream",
     "text": [
      "Hello\t \"there\n",
      "How are you?\n"
     ]
    }
   ],
   "source": [
    "s = \"Hello\\t \\\"there\\nHow are you?\"\n",
    "print(s)"
   ]
  },
  {
   "cell_type": "code",
   "execution_count": 48,
   "id": "coated-brief",
   "metadata": {},
   "outputs": [
    {
     "data": {
      "text/plain": [
       "False"
      ]
     },
     "execution_count": 48,
     "metadata": {},
     "output_type": "execute_result"
    }
   ],
   "source": [
    "\"jell\" < \"jela\""
   ]
  },
  {
   "cell_type": "code",
   "execution_count": null,
   "id": "nearby-diameter",
   "metadata": {},
   "outputs": [],
   "source": [
    "def average(numbers):\n",
    "    total = 0\n",
    "    for num in numbers:\n",
    "        total = total + num\n",
    "    avg = total/len(numbers)\n",
    "    return avg, total\n",
    "def main():\n",
    "    prices = [29, 21, 55, 10, 12,16,190,347,1024, 9403, 125, 341942, 20394, 109236, 3470, 5732, 1293, 10039,5783]\n",
    "    result, tot = average(prices)\n",
    "    print(tot)\n",
    "    print(result)\n",
    "main()"
   ]
  },
  {
   "cell_type": "code",
   "execution_count": null,
   "id": "regular-temperature",
   "metadata": {},
   "outputs": [],
   "source": [
    "# write one generic function to find the nth highest in a list\n",
    "# Assignment"
   ]
  },
  {
   "cell_type": "code",
   "execution_count": null,
   "id": "aboriginal-findings",
   "metadata": {},
   "outputs": [],
   "source": [
    "def main():\n",
    "    prices = [29, 21, 55, 10]\n",
    "    result = average(prices)\n",
    "    print(var1)\n",
    "    print(result)\n",
    "def average(numbers):\n",
    "    total = 0\n",
    "    for num in numbers:\n",
    "        total = total + num\n",
    "    avg = total/len(numbers)\n",
    "    return avg\n",
    "var1 = 25\n",
    "main()"
   ]
  },
  {
   "cell_type": "code",
   "execution_count": null,
   "id": "received-termination",
   "metadata": {},
   "outputs": [],
   "source": [
    "while True :\n",
    "    print('hi')"
   ]
  },
  {
   "cell_type": "code",
   "execution_count": null,
   "id": "spiritual-viking",
   "metadata": {},
   "outputs": [],
   "source": [
    "a = 10\n",
    "while a < 20 :\n",
    "    a += 1\n",
    "    if(a == 15):\n",
    "        continue    \n",
    "    print(a)\n",
    "    "
   ]
  },
  {
   "cell_type": "code",
   "execution_count": null,
   "id": "clear-justice",
   "metadata": {},
   "outputs": [],
   "source": []
  }
 ],
 "metadata": {
  "kernelspec": {
   "display_name": "Python 3 (ipykernel)",
   "language": "python",
   "name": "python3"
  },
  "language_info": {
   "codemirror_mode": {
    "name": "ipython",
    "version": 3
   },
   "file_extension": ".py",
   "mimetype": "text/x-python",
   "name": "python",
   "nbconvert_exporter": "python",
   "pygments_lexer": "ipython3",
   "version": "3.9.7"
  }
 },
 "nbformat": 4,
 "nbformat_minor": 5
}
