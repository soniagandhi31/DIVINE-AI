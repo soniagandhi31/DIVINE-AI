{
 "cells": [
  {
   "cell_type": "markdown",
   "id": "58b52ec0",
   "metadata": {},
   "source": [
    "# 4.  Functions"
   ]
  },
  {
   "cell_type": "markdown",
   "id": "fcf2e40d",
   "metadata": {},
   "source": [
    "## 1. Defining Functions"
   ]
  },
  {
   "cell_type": "code",
   "execution_count": 1,
   "id": "270291d7",
   "metadata": {},
   "outputs": [
    {
     "name": "stdout",
     "output_type": "stream",
     "text": [
      "hi everyone\n",
      "welcome to divineAI\n",
      "hii sir\n"
     ]
    }
   ],
   "source": [
    "# Defining your own custom funtion.\n",
    "# we are creating our own custom fuction because in real time program the code will too lengthy so we have to break that code smaller part and maintainable.\n",
    "def welcome():  #def means define\n",
    "    print(\"hi everyone\")\n",
    "    print(\"welcome to divineAI\")\n",
    "    print(\"hii sir\")\n",
    "    \n",
    "welcome()\n",
    "\n",
    "\n"
   ]
  },
  {
   "cell_type": "code",
   "execution_count": 2,
   "id": "d501a021",
   "metadata": {},
   "outputs": [
    {
     "name": "stdout",
     "output_type": "stream",
     "text": [
      "hi\n",
      "my name is sabyasachi mohanty\n",
      "and am working in divineAi\n"
     ]
    }
   ],
   "source": [
    "def name():\n",
    "    print(\"hi\")\n",
    "    print(\"my name is sabyasachi mohanty\")\n",
    "    print(\"and am working in divineAi\")\n",
    "name()"
   ]
  },
  {
   "cell_type": "markdown",
   "id": "f8c75564",
   "metadata": {},
   "source": [
    "## 2. Argument"
   ]
  },
  {
   "cell_type": "code",
   "execution_count": 2,
   "id": "f464b8cb",
   "metadata": {},
   "outputs": [
    {
     "name": "stdout",
     "output_type": "stream",
     "text": [
      " plz enter first name : gygy\n",
      "plz enter middle name : bhu\n",
      "plz enter  last name : yhyuh\n",
      "hi gygy bhu yhyuh\n",
      "hi gygy bhu yhyuh\n",
      "hi xxyyzz xyz mhbjhfb\n",
      "hi xxyyzz xyz mhbjhfb\n",
      "hi rakesh das jhvfrb\n",
      "hi rakesh das jhvfrb\n"
     ]
    }
   ],
   "source": [
    "def greet(first_name, middle_name,last_name): #here first_name and last_name are three parameter.\n",
    "    print(F\"hi {first_name} {middle_name} {last_name}\")# we are giving parameter is the input to define your function.\n",
    "    print(\"hi\",first_name,middle_name,last_name)\n",
    "    #print(\"welcome to divineAi\")\n",
    "x = input(\" plz enter first name : \")\n",
    "y = input(\"plz enter middle name : \")\n",
    "z = input(\"plz enter  last name : \")\n",
    "greet(x,y,z) #'sabyasachi' and 'mohanty' are two argument.\n",
    "greet('xxyyzz','xyz','mhbjhfb')# argument is define as the actual value of the given parameter.\n",
    "greet('rakesh','das','jhvfrb')"
   ]
  },
  {
   "cell_type": "markdown",
   "id": "76594a6b",
   "metadata": {},
   "source": [
    "## 3. Types of Functions"
   ]
  },
  {
   "cell_type": "code",
   "execution_count": 37,
   "id": "be42be22",
   "metadata": {},
   "outputs": [
    {
     "name": "stdout",
     "output_type": "stream",
     "text": [
      "Hi sabya\n",
      "divineai\n",
      "5\n",
      "5.3\n"
     ]
    }
   ],
   "source": [
    "#We have two types of functions\n",
    "# 1- perform a task\n",
    "# 2- calculate and Return a value\n",
    " \n",
    "def greet(name):\n",
    "    print(f\"Hi {name}\") # here gret and print function printing someting in the terminal or output.here they are doing some task.  \n",
    "greet('sabya')    \n",
    "    \n",
    "x = 'divineai'\n",
    "print(x)\n",
    "    \n",
    "print(round(5.3)) # here round function calculate something and return some vlaues.\n",
    "print(5.3)\n",
    " "
   ]
  },
  {
   "cell_type": "code",
   "execution_count": 7,
   "id": "0db14cc2",
   "metadata": {},
   "outputs": [
    {
     "name": "stdout",
     "output_type": "stream",
     "text": [
      "5.8\n"
     ]
    }
   ],
   "source": [
    "print(5.8)"
   ]
  },
  {
   "cell_type": "code",
   "execution_count": 40,
   "id": "3409e710",
   "metadata": {},
   "outputs": [
    {
     "data": {
      "text/plain": [
       "'sabyasachi'"
      ]
     },
     "execution_count": 40,
     "metadata": {},
     "output_type": "execute_result"
    }
   ],
   "source": [
    "x = 'sabyasachi'\n",
    "x"
   ]
  },
  {
   "cell_type": "code",
   "execution_count": 22,
   "id": "becacbed",
   "metadata": {},
   "outputs": [
    {
     "data": {
      "text/plain": [
       "'hi sabyasachi'"
      ]
     },
     "execution_count": 22,
     "metadata": {},
     "output_type": "execute_result"
    }
   ],
   "source": [
    "def get_greeting(name):\n",
    "    return f\"hi {name}\" # we are using return statement to return value of the function.\n",
    "\n",
    "get_greeting('sabyasachi')\n",
    "\n"
   ]
  },
  {
   "cell_type": "code",
   "execution_count": 8,
   "id": "fb256e70",
   "metadata": {},
   "outputs": [
    {
     "data": {
      "text/plain": [
       "8"
      ]
     },
     "execution_count": 8,
     "metadata": {},
     "output_type": "execute_result"
    }
   ],
   "source": [
    "def get_greeting(a,b):\n",
    "    return a+b # we are using return statement to return value of the function.\n",
    "\n",
    "get_greeting(3,5)\n"
   ]
  },
  {
   "cell_type": "markdown",
   "id": "b7bdb283",
   "metadata": {},
   "source": [
    "## 4. Keyword Argument "
   ]
  },
  {
   "cell_type": "code",
   "execution_count": 24,
   "id": "48821209",
   "metadata": {},
   "outputs": [
    {
     "data": {
      "text/plain": [
       "10"
      ]
     },
     "execution_count": 24,
     "metadata": {},
     "output_type": "execute_result"
    }
   ],
   "source": [
    " def increment(number, by):\n",
    "        return number + by\n",
    "    \n",
    "increment(7,3)"
   ]
  },
  {
   "cell_type": "code",
   "execution_count": 10,
   "id": "1ca71799",
   "metadata": {},
   "outputs": [
    {
     "data": {
      "text/plain": [
       "10"
      ]
     },
     "execution_count": 10,
     "metadata": {},
     "output_type": "execute_result"
    }
   ],
   "source": [
    "def increment(number,by=1):\n",
    "        return number + by\n",
    "    \n",
    "increment(6,by=4)# here by=1 is the keyword. We are using keywords to keep our program more readble.\n",
    "\n"
   ]
  },
  {
   "cell_type": "markdown",
   "id": "3aeb4f5a",
   "metadata": {},
   "source": [
    "## 5. Default Arguments"
   ]
  },
  {
   "cell_type": "code",
   "execution_count": 18,
   "id": "d707062e",
   "metadata": {},
   "outputs": [
    {
     "name": "stdout",
     "output_type": "stream",
     "text": [
      "11\n"
     ]
    }
   ],
   "source": [
    "def increment(number, by=1): # here we are using by=1 is a default vlaue.\n",
    "        return number + by\n",
    "    \n",
    "print(increment(10))"
   ]
  },
  {
   "cell_type": "code",
   "execution_count": 19,
   "id": "e5d7974b",
   "metadata": {},
   "outputs": [
    {
     "data": {
      "text/plain": [
       "5"
      ]
     },
     "execution_count": 19,
     "metadata": {},
     "output_type": "execute_result"
    }
   ],
   "source": [
    "def increment(number, by=2): \n",
    "    return number + by\n",
    "    \n",
    "increment(4,1) # here by=1  behaves like optional parameter. \n"
   ]
  },
  {
   "cell_type": "code",
   "execution_count": null,
   "id": "e0eba0ec",
   "metadata": {},
   "outputs": [],
   "source": []
  }
 ],
 "metadata": {
  "kernelspec": {
   "display_name": "Python 3 (ipykernel)",
   "language": "python",
   "name": "python3"
  },
  "language_info": {
   "codemirror_mode": {
    "name": "ipython",
    "version": 3
   },
   "file_extension": ".py",
   "mimetype": "text/x-python",
   "name": "python",
   "nbconvert_exporter": "python",
   "pygments_lexer": "ipython3",
   "version": "3.9.7"
  }
 },
 "nbformat": 4,
 "nbformat_minor": 5
}
