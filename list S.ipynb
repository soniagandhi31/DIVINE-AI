{
 "cells": [
  {
   "cell_type": "code",
   "execution_count": null,
   "metadata": {},
   "outputs": [],
   "source": []
  },
  {
   "cell_type": "code",
   "execution_count": 2,
   "metadata": {},
   "outputs": [
    {
     "name": "stdout",
     "output_type": "stream",
     "text": [
      "Before\n",
      "9 9\n",
      "9 41\n",
      "9 12\n",
      "3 3\n",
      "3 74\n",
      "3 15\n",
      "After 3\n"
     ]
    }
   ],
   "source": [
    "smallest = None\n",
    "print('Before')\n",
    "for value in [9, 41, 12, 3, 74, 15] : \n",
    "     if smallest is None : \n",
    "         smallest = value   \n",
    "     elif value < smallest : \n",
    "         smallest = value   \n",
    "     print(smallest, value)\n",
    "print('After', smallest)"
   ]
  },
  {
   "cell_type": "code",
   "execution_count": 2,
   "metadata": {
    "slideshow": {
     "slide_type": "subslide"
    }
   },
   "outputs": [
    {
     "name": "stdout",
     "output_type": "stream",
     "text": [
      "A tuple: (2, 3, 4, 5)\n",
      "First element of tuple: 2\n"
     ]
    }
   ],
   "source": [
    "## Tuple - immutable\n",
    "example_tuple = (2, 3, 4, 5)\n",
    "print('A tuple:', example_tuple)\n",
    "print('First element of tuple:', example_tuple[0])"
   ]
  },
  {
   "cell_type": "code",
   "execution_count": 1,
   "metadata": {},
   "outputs": [
    {
     "name": "stdout",
     "output_type": "stream",
     "text": [
      "[1, 2, 3, 4, 5]\n",
      "[20, 2, 3, 4, 5]\n",
      "[20, 2, 3, 8, 5]\n"
     ]
    }
   ],
   "source": [
    "List=[1,2,3,4,5] \n",
    "print(List) \n",
    "List[0]=20 \n",
    "print(List) \n",
    "List[3]=8 \n",
    "print(List) "
   ]
  },
  {
   "cell_type": "code",
   "execution_count": 3,
   "metadata": {
    "slideshow": {
     "slide_type": "subslide"
    }
   },
   "outputs": [
    {
     "name": "stdout",
     "output_type": "stream",
     "text": [
      "A list: [2, 3, 4, 5]\n",
      "First element of list: 2\n",
      "Appended list: [2, 3, 4, 5, 12]\n",
      "Modified list: [45, 3, 4, 5, 12]\n"
     ]
    }
   ],
   "source": [
    "## List\n",
    "example_list = [2, 3, 4, 5]\n",
    "print('A list:', example_list)\n",
    "print('First element of list:', example_list[0])\n",
    "example_list.append(12)\n",
    "print('Appended list:', example_list)\n",
    "example_list[0] = 45\n",
    "print('Modified list:', example_list)"
   ]
  },
  {
   "cell_type": "code",
   "execution_count": 4,
   "metadata": {
    "slideshow": {
     "slide_type": "subslide"
    }
   },
   "outputs": [
    {
     "name": "stdout",
     "output_type": "stream",
     "text": [
      "Here is a string: ABCDEFGH\n",
      "First character: A\n",
      "Number of characters in text 8\n"
     ]
    }
   ],
   "source": [
    "## String - immutable, tuple of characters\n",
    "text = \"ABCDEFGH\"\n",
    "print('Here is a string:', text)\n",
    "print('First character:', text[0])\n",
    "print('Number of characters in text', len(text))"
   ]
  },
  {
   "cell_type": "code",
   "execution_count": 5,
   "metadata": {
    "slideshow": {
     "slide_type": "subslide"
    }
   },
   "outputs": [
    {
     "name": "stdout",
     "output_type": "stream",
     "text": [
      "A set: {1, 2, 4, 5, 6}\n"
     ]
    }
   ],
   "source": [
    "## Set - unique unordered elements\n",
    "example_set = set([1,2,2,2,2,4,5,6,6,6])\n",
    "print('A set:', example_set)"
   ]
  },
  {
   "cell_type": "code",
   "execution_count": 3,
   "metadata": {},
   "outputs": [
    {
     "name": "stdout",
     "output_type": "stream",
     "text": [
      "hyundai\n"
     ]
    }
   ],
   "source": [
    "d = { \"foo\" : 1, \"bar\" : 2,\"brand\" : ['maruti', 'toyota','hyundai','honda'] }\n",
    "print(d[\"brand\"][2])   # 2"
   ]
  },
  {
   "cell_type": "code",
   "execution_count": null,
   "metadata": {},
   "outputs": [],
   "source": []
  },
  {
   "cell_type": "raw",
   "metadata": {},
   "source": []
  },
  {
   "cell_type": "code",
   "execution_count": null,
   "metadata": {},
   "outputs": [],
   "source": [
    "some_dict = {}\n",
    "some_dict[\"foo\"] = \"yow!\"\n",
    "print(some_dict.keys()) "
   ]
  },
  {
   "cell_type": "code",
   "execution_count": 7,
   "metadata": {},
   "outputs": [
    {
     "name": "stdout",
     "output_type": "stream",
     "text": [
      "r\n"
     ]
    }
   ],
   "source": [
    "d1={\"flag\": [\"red\",\"white\",\"blue\",(\"hi\",[1,2,'how r u'])]}\n",
    "print(d1['flag'][3][1][2][4])"
   ]
  },
  {
   "cell_type": "code",
   "execution_count": 23,
   "metadata": {},
   "outputs": [
    {
     "name": "stdout",
     "output_type": "stream",
     "text": [
      "a\n"
     ]
    }
   ],
   "source": [
    "d1={\n",
    "    \"flag\":[\"d\",\"h\",\"e\",(\"hi\",[1,{1:['Happy new{year: thank you}']},2,'hou'])]}\n",
    "print(d1['flag'][-1][-1][-3][1][-1][-8])"
   ]
  },
  {
   "cell_type": "code",
   "execution_count": 25,
   "metadata": {},
   "outputs": [
    {
     "name": "stdout",
     "output_type": "stream",
     "text": [
      "None\n"
     ]
    }
   ],
   "source": [
    "print(d1.get('flg'))"
   ]
  },
  {
   "cell_type": "code",
   "execution_count": 4,
   "metadata": {},
   "outputs": [
    {
     "name": "stdout",
     "output_type": "stream",
     "text": [
      "1423600141480\n",
      "1423600141000\n",
      "1423600453960\n",
      "1423600141000\n"
     ]
    }
   ],
   "source": [
    "a = (1, 2, 3)\n",
    "print(id(a))\n",
    "b = (4, 5, 6)\n",
    "print(id(b))\n",
    "a = a + b\n",
    "print(id(a))\n",
    "print(id(b))"
   ]
  },
  {
   "cell_type": "code",
   "execution_count": 9,
   "metadata": {},
   "outputs": [
    {
     "name": "stdout",
     "output_type": "stream",
     "text": [
      "1423600159560\n",
      "1423600339016\n",
      "1423600431880\n",
      "1423600339016\n",
      "[1, 2, 3, 4, 5, 6]\n"
     ]
    }
   ],
   "source": [
    "a = [1, 2, 3]\n",
    "print(id(a))\n",
    "b = [4, 5, 6]\n",
    "print(id(b))\n",
    "a = a + b\n",
    "print(id(a))\n",
    "print(id(b))\n",
    "print(a)"
   ]
  },
  {
   "cell_type": "code",
   "execution_count": 8,
   "metadata": {},
   "outputs": [
    {
     "name": "stdout",
     "output_type": "stream",
     "text": [
      "1423600339016\n",
      "1423600431880\n",
      "1423600339016\n",
      "1423600431880\n",
      "[1, 2, 3, 4]\n"
     ]
    }
   ],
   "source": [
    "a = [1, 2, 3]\n",
    "print(id(a))\n",
    "b = [4, 5, 6]\n",
    "print(id(b))\n",
    "a.append(4)\n",
    "print(id(a))\n",
    "print(id(b))\n",
    "print(a)"
   ]
  },
  {
   "cell_type": "code",
   "execution_count": 11,
   "metadata": {},
   "outputs": [
    {
     "data": {
      "text/plain": [
       "'HelloWorld hi'"
      ]
     },
     "execution_count": 11,
     "metadata": {},
     "output_type": "execute_result"
    }
   ],
   "source": [
    "s1 = \"Hello\" \n",
    "s2 = 'World'\n",
    "s1 = s1 + s2\n",
    "s1 = s1 + ' hi'\n",
    "s1"
   ]
  },
  {
   "cell_type": "code",
   "execution_count": 12,
   "metadata": {},
   "outputs": [
    {
     "data": {
      "text/plain": [
       "'HelloHelloHello'"
      ]
     },
     "execution_count": 12,
     "metadata": {},
     "output_type": "execute_result"
    }
   ],
   "source": [
    "'Hello' * 3"
   ]
  },
  {
   "cell_type": "code",
   "execution_count": 27,
   "metadata": {},
   "outputs": [
    {
     "data": {
      "text/plain": [
       "'n'"
      ]
     },
     "execution_count": 27,
     "metadata": {},
     "output_type": "execute_result"
    }
   ],
   "source": [
    "a = [1,True,'Hello',[1,2,3],(5,6,'how r u',[7,8,'fine'],('hi',5,False))]\n",
    "a[4][3][2][2]"
   ]
  },
  {
   "cell_type": "code",
   "execution_count": 27,
   "metadata": {},
   "outputs": [
    {
     "name": "stdout",
     "output_type": "stream",
     "text": [
      "False\n",
      "True\n",
      "False\n"
     ]
    }
   ],
   "source": [
    "my_list = [1, 2, 3, 4] \n",
    "your_list = [4, 3, 2, 1] \n",
    "his_list = [1, 2, 3, 4]\n",
    "print(my_list == your_list) \n",
    "print(my_list == his_list)\n",
    "my_dict = {1:7, 2:2, 3:3, 4:4} \n",
    "your_dict = {4:4, 3:3, 2:2, 1:1}\n",
    "print(my_dict == your_dict)"
   ]
  },
  {
   "cell_type": "code",
   "execution_count": 6,
   "metadata": {
    "slideshow": {
     "slide_type": "subslide"
    }
   },
   "outputs": [
    {
     "name": "stdout",
     "output_type": "stream",
     "text": [
      "A dictionary: {'A': 'APPLE', 'B': 'BALL', 'C': 'CAT', 'D': 'DOLL'}\n",
      "Value associated to key C: CAT\n"
     ]
    }
   ],
   "source": [
    "## Dictionary\n",
    "example_dictionary = {\"A\": \"APPLE\", \n",
    "                      \"B\": \"BALL\", \n",
    "                      \"C\": \"CAT\", \n",
    "                      \"D\": \"DOLL\"}\n",
    "print('A dictionary:', example_dictionary)\n",
    "print('Value associated to key C:', example_dictionary['C'])"
   ]
  },
  {
   "cell_type": "code",
   "execution_count": 28,
   "metadata": {},
   "outputs": [
    {
     "name": "stdout",
     "output_type": "stream",
     "text": [
      "1\n",
      "4\n",
      "9\n",
      "16\n",
      "25\n",
      "c\n",
      "o\n",
      "m\n",
      "p\n",
      "u\n",
      "t\n",
      "e\n",
      "r\n"
     ]
    }
   ],
   "source": [
    "for num in [1,2,3,4,5]:\n",
    "    print(num**2)\n",
    "\n",
    "for num in 'computer':\n",
    "    print(num)"
   ]
  },
  {
   "cell_type": "code",
   "execution_count": 7,
   "metadata": {},
   "outputs": [
    {
     "name": "stdout",
     "output_type": "stream",
     "text": [
      "Is 2 < 5? True\n",
      "Is 2 == 5? False\n",
      "Is 2 < 5 and 2 > 1? True\n",
      "x is equal to 2\n"
     ]
    }
   ],
   "source": [
    "x = 2\n",
    "print('Is 2 < 5?', x < 5)\n",
    "print('Is 2 == 5?', x == 5)\n",
    "print('Is 2 < 5 and 2 > 1?', (x < 5) & (x > 1))\n",
    "\n",
    "if x == 2:\n",
    "    print('x is equal to 2')"
   ]
  },
  {
   "cell_type": "code",
   "execution_count": 8,
   "metadata": {
    "slideshow": {
     "slide_type": "-"
    }
   },
   "outputs": [
    {
     "name": "stdout",
     "output_type": "stream",
     "text": [
      "The element in list is: A\n",
      "The element in list is: B\n",
      "The element in list is: C\n",
      "The element in list is: D\n",
      "The element in list is: E\n"
     ]
    }
   ],
   "source": [
    "example_list = ['A', 'B', 'C', 'D', 'E']\n",
    "\n",
    "## Looping through a list\n",
    "for element in example_list:\n",
    "    print(\"The element in list is:\", element)"
   ]
  },
  {
   "cell_type": "code",
   "execution_count": 30,
   "metadata": {},
   "outputs": [
    {
     "name": "stdout",
     "output_type": "stream",
     "text": [
      "Price is 2.5\n",
      "Price is 3.5\n",
      "Price is 4.5\n",
      "total is 10.5\n",
      "avg is 3.5\n"
     ]
    }
   ],
   "source": [
    "total = 0\n",
    "prices = [2.50, 3.50, 4.50]\n",
    "for price in prices:\n",
    "    print('Price is', price) \n",
    "    total = total + price\n",
    "print('total is', total)\n",
    "average = total/len(prices) \n",
    "print('avg is', average)\n"
   ]
  },
  {
   "cell_type": "code",
   "execution_count": 38,
   "metadata": {},
   "outputs": [
    {
     "name": "stdout",
     "output_type": "stream",
     "text": [
      "0.16710574390603528\n",
      "2\n",
      "832\n"
     ]
    }
   ],
   "source": [
    "import random\n",
    "r1 = random.random() # Gives us a random number from [0.0, 1.0\n",
    "print(r1)\n",
    "r2 = random.choice([1,2,3,4,5]) # Gives us a random choice from a list\n",
    "r3 = random.randint(1, 1000) # Gives us a random number in this range\n",
    "print(r2)\n",
    "print(r3)"
   ]
  },
  {
   "cell_type": "code",
   "execution_count": 45,
   "metadata": {},
   "outputs": [
    {
     "name": "stdout",
     "output_type": "stream",
     "text": [
      "208\n",
      "595\n",
      "376\n",
      "195\n",
      "539\n",
      "1000\n",
      "499\n",
      "89\n",
      "780\n",
      "854\n"
     ]
    }
   ],
   "source": [
    "import random\n",
    "for i in range(10):\n",
    "    #print(i)\n",
    "    ticket = random.randint(1, 1000)\n",
    "    print(ticket)"
   ]
  },
  {
   "cell_type": "code",
   "execution_count": 47,
   "metadata": {},
   "outputs": [
    {
     "name": "stdout",
     "output_type": "stream",
     "text": [
      "2005\n",
      "2007\n",
      "2009\n",
      "2011\n",
      "2013\n",
      "2015\n"
     ]
    }
   ],
   "source": [
    "for i in range(2005, 2017, 2):\n",
    "    print(i)"
   ]
  },
  {
   "cell_type": "code",
   "execution_count": 51,
   "metadata": {},
   "outputs": [
    {
     "name": "stdout",
     "output_type": "stream",
     "text": [
      "dict_items([('Knackered Spam', 0.5), ('Pip pip Spam', 1.5), ('Squidgy Spam', 2.5), ('Smashing Spam', 3.5)])\n",
      "Knackered Spam : $ 0.5\n",
      "Pip pip Spam : $ 1.5\n",
      "Squidgy Spam : $ 2.5\n",
      "Smashing Spam : $ 3.5\n"
     ]
    }
   ],
   "source": [
    "menu_prices = {\n",
    "    'Knackered Spam': 0.50,\n",
    "    'Pip pip Spam': 1.50, \n",
    "    'Squidgy Spam': 2.50, \n",
    "    'Smashing Spam': 3.50\n",
    "}\n",
    "print(menu_prices.items())\n",
    "for name, price in menu_prices.items():\n",
    "    print(name, ': $', price)\n"
   ]
  },
  {
   "cell_type": "code",
   "execution_count": 54,
   "metadata": {},
   "outputs": [
    {
     "name": "stdout",
     "output_type": "stream",
     "text": [
      "Enter the Number5\n",
      "1\n",
      "2\n",
      "3\n",
      "4\n",
      "5\n"
     ]
    }
   ],
   "source": [
    "n = 1\n",
    "num= int(input('Enter the Number'))\n",
    "while n<= num :\n",
    "    print(n)\n",
    "    n+=1"
   ]
  },
  {
   "cell_type": "code",
   "execution_count": 63,
   "metadata": {},
   "outputs": [
    {
     "name": "stdout",
     "output_type": "stream",
     "text": [
      "x? 100\n",
      "y? ten\n",
      "<class 'str'>\n",
      "x is less than y\n"
     ]
    }
   ],
   "source": [
    "x = input(\"x? \")\n",
    "y = input(\"y? \")\n",
    "print(type(x))\n",
    "\n",
    "if x < y: \n",
    "    print('x is less than y') \n",
    "elif x > y: \n",
    "    print ('x is greater than y') \n",
    "else: \n",
    "    print('x and y are equal')\n"
   ]
  },
  {
   "cell_type": "code",
   "execution_count": 64,
   "metadata": {},
   "outputs": [
    {
     "name": "stdout",
     "output_type": "stream",
     "text": [
      "Before\n",
      "Large number 41\n",
      "Large number 74\n",
      "After\n"
     ]
    }
   ],
   "source": [
    "print('Before')\n",
    "for num in [9, 41, 12, 3, 74, 15] :\n",
    "    if num > 20: \n",
    "        print('Large number',num)\n",
    "print('After')\n"
   ]
  },
  {
   "cell_type": "code",
   "execution_count": null,
   "metadata": {},
   "outputs": [],
   "source": []
  }
 ],
 "metadata": {
  "celltoolbar": "Slideshow",
  "kernelspec": {
   "display_name": "Python 3 (ipykernel)",
   "language": "python",
   "name": "python3"
  },
  "language_info": {
   "codemirror_mode": {
    "name": "ipython",
    "version": 3
   },
   "file_extension": ".py",
   "mimetype": "text/x-python",
   "name": "python",
   "nbconvert_exporter": "python",
   "pygments_lexer": "ipython3",
   "version": "3.9.7"
  }
 },
 "nbformat": 4,
 "nbformat_minor": 1
}
